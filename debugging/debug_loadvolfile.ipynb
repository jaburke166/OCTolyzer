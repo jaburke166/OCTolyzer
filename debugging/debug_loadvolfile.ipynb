{
 "cells": [
  {
   "cell_type": "markdown",
   "id": "47cc9819-f4d2-440e-bbd7-118c5dc982ca",
   "metadata": {},
   "source": [
    "# Debugging Jupyter Notebook for OCTolyzer's loading in of `.vol` files\n",
    "\n",
    "This notebook copies the step-by-step process of OCTolyzer's `utils.load_volfile` function which loads in a `.vol` file, and should provide the end-user with the means of debugging the pipeline by testing each step individually."
   ]
  },
  {
   "cell_type": "markdown",
   "id": "d715efc2-4c27-414b-8dc9-da34d7e6929e",
   "metadata": {},
   "source": [
    "### Add OCTolyzer to system paths to permit access to analysis files"
   ]
  },
  {
   "cell_type": "code",
   "execution_count": null,
   "id": "5329be5d-c3e6-42f5-b5f2-8be5c50c2825",
   "metadata": {},
   "outputs": [],
   "source": [
    "import sys\n",
    "sys.path.append('/Users/s1522100/Documents/OCTolyzer')\n",
    "from octolyzer import utils\n",
    "\n",
    "import eyepy\n",
    "from eyepy.core import utils as eyepy_utils\n",
    "from eyepy.io.he import vol_reader\n",
    "import os\n",
    "import numpy as np\n",
    "import matplotlib.pyplot as plt\n",
    "from sklearn.linear_model import LinearRegression\n",
    "from octolyzer.measure.bscan.thickness_maps import grid\n",
    "from skimage import segmentation"
   ]
  },
  {
   "cell_type": "markdown",
   "id": "4a6b98ee-f47a-4085-8c7b-ab4fb21e4ed9",
   "metadata": {},
   "source": [
    "### Define file to be loaded and default parameters, the `vol_path` is the only variable to change"
   ]
  },
  {
   "cell_type": "code",
   "execution_count": null,
   "id": "a8b88ba3-f923-4f7a-acb0-d619d3d26cd9",
   "metadata": {},
   "outputs": [],
   "source": [
    "# vol_path = \"../demo/input/Peripapillary_1.vol\"\n",
    "# vol_path = \"../demo/input/Ppole_1.vol\"\n",
    "# vol_path = \"../demo/input/Linescan_1.vol\"\n",
    "vol_path = \"../demo/input/Radial_1.vol\"\n",
    "\n",
    "logging = []\n",
    "verbose = True\n",
    "preprocess = True\n",
    "custom_maps = ['ILM_OPL']"
   ]
  },
  {
   "cell_type": "code",
   "execution_count": null,
   "id": "16043feb-b447-45ab-8b3c-fad54ef586f3",
   "metadata": {},
   "outputs": [],
   "source": [
    "SEG_MAPPING = {\n",
    "    'ILM': 0,\n",
    "    'BM': 1,\n",
    "    'RNFL': 2,\n",
    "    'GCL': 3,\n",
    "    'IPL': 4,\n",
    "    'INL': 5,\n",
    "    'OPL': 6,\n",
    "    'ONL': 7,\n",
    "    'ELM': 8,\n",
    "    'IOS': 9,\n",
    "    'OPT': 10,\n",
    "    'CHO': 11,\n",
    "    'VIT': 12,\n",
    "    'ANT': 13,\n",
    "    'PR1': 14,\n",
    "    'PR2': 15,\n",
    "    'RPE': 16,\n",
    "}"
   ]
  },
  {
   "cell_type": "markdown",
   "id": "a6636a06-2d81-4876-898e-19178bb77c17",
   "metadata": {},
   "source": [
    "### Load image data and metadata using EyePy and determine scan pattern"
   ]
  },
  {
   "cell_type": "code",
   "execution_count": null,
   "id": "b15b7c02-a441-4a60-a3ed-df7111553f5b",
   "metadata": {},
   "outputs": [],
   "source": [
    "fname = os.path.split(vol_path)[1]\n",
    "msg = f\"Reading file {fname}...\"\n",
    "logging.append(msg)\n",
    "if verbose:\n",
    "    print(msg)\n",
    "\n",
    "# Catch whether .vol file is a peripapillary or macular scan. Other locations, i.e. radial \"star-shaped\" scans\n",
    "# currently not supported.\n",
    "scan_type = \"Macular\"\n",
    "radial = False\n",
    "eyepy_import = False\n",
    "try: \n",
    "    voldata = eyepy.import_heyex_vol(vol_path)\n",
    "    eyepy_import = True\n",
    "\n",
    "    # pixel data\n",
    "    bscan_data = voldata.data / 255\n",
    "    N_scans, M, N = bscan_data.shape\n",
    "    fovea_slice_num = N_scans // 2\n",
    "    \n",
    "except ValueError as msg:\n",
    "    if len(msg.args) > 0 and msg.args[0] == \"The EyeVolume object does not support scan pattern 2 (one Circular B-scan).\":\n",
    "        voldata = vol_reader.HeVolReader(vol_path)\n",
    "        scan_type = \"Peripapillary\"\n",
    "\n",
    "        # pixel data\n",
    "        pixel_data = voldata.parsed_file.bscans[0].data\n",
    "        bscan_data = (eyepy_utils.from_vol_intensity(pixel_data.copy()) / 255).reshape(1,*pixel_data.shape)\n",
    "        N_scans, M, N = bscan_data.shape\n",
    "        fovea_slice_num = None\n",
    "\n",
    "    elif len(msg.args) > 0 and msg.args[0] == \"The EyeVolume object does not support scan pattern 5 (Radial scan - star pattern).\":\n",
    "        voldata = vol_reader.HeVolReader(vol_path)\n",
    "        radial = True\n",
    "\n",
    "        # pixel data\n",
    "        pixel_data = [arr.data for arr in voldata.parsed_file.bscans]\n",
    "        bscan_data = np.asarray([eyepy_utils.from_vol_intensity(arr.copy()) / 255 for arr in pixel_data])\n",
    "        N_scans, M, N = bscan_data.shape\n",
    "        fovea_slice_num = N_scans // 2\n",
    "        \n",
    "    else:\n",
    "        logging.append(msg)\n",
    "        raise msg"
   ]
  },
  {
   "cell_type": "code",
   "execution_count": null,
   "id": "3a794e06-bfff-4275-ac38-1f1b279d209f",
   "metadata": {},
   "outputs": [],
   "source": [
    "# slo data and metadata\n",
    "slo = voldata.localizer.data.astype(float) / 255\n",
    "slo_N = slo.shape[0]\n",
    "slo_metadict = voldata.localizer.meta.as_dict()\n",
    "slo_metadict[\"slo_resolution_px\"] = slo_N\n",
    "slo_metadict[\"field_of_view_mm\"] = slo_metadict[\"scale_x\"] * slo_N\n",
    "\n",
    "# bscan metadata\n",
    "vol_metadata = voldata.meta.as_dict()\n",
    "eye = vol_metadata[\"laterality\"]\n",
    "scale_z, scale_x, scale_y = vol_metadata[\"scale_z\"], vol_metadata[\"scale_x\"], vol_metadata[\"scale_y\"]\n",
    "bscan_meta = vol_metadata[\"bscan_meta\"]\n",
    "\n",
    "# Detect scan pattern\n",
    "if scan_type == \"Peripapillary\":\n",
    "    bscan_type = scan_type\n",
    "    msg = f\"Loaded a peripapillary (circular) B-scan.\"\n",
    "    logging.append(msg)\n",
    "    if verbose:\n",
    "        print(msg)\n",
    "elif scan_type == \"Macular\" and scale_z != 0:\n",
    "    if radial == 0:\n",
    "        bscan_type = \"Ppole\"\n",
    "        msg = f\"Loaded a posterior pole scan with {N_scans} B-scans.\"\n",
    "    else:\n",
    "        bscan_type = \"Radial\"\n",
    "        msg = f\"Loaded a radial scan with {N_scans} B-scans.\"\n",
    "    logging.append(msg)\n",
    "    if verbose:\n",
    "        print(msg)\n",
    "else:\n",
    "    stp = bscan_meta[0][\"start_pos\"][0]\n",
    "    enp = bscan_meta[0][\"end_pos\"][1]\n",
    "    if np.allclose(stp,0,atol=1e-3):\n",
    "        bscan_type = \"H-line\"\n",
    "    elif np.allclose(enp,0,atol=1e-3):\n",
    "        bscan_type = \"V-line\"\n",
    "    else:\n",
    "        bscan_type = \"AV-line\"\n",
    "    msg = f\"Loaded a single {bscan_type} B-scan.\"\n",
    "    logging.append(msg)\n",
    "    if verbose:\n",
    "        print(msg)"
   ]
  },
  {
   "cell_type": "markdown",
   "id": "ba163982-44bc-41d7-a7a0-0e95bcd82561",
   "metadata": {},
   "source": [
    "### Preprocess B-scans to brighten and remove superficial retinal vessel shadowing in choroid"
   ]
  },
  {
   "cell_type": "code",
   "execution_count": null,
   "id": "2592ab50-bacc-44b3-903b-bc518dc7208b",
   "metadata": {},
   "outputs": [],
   "source": [
    "# Optional to try compensate for vessel shadows and brighten B-scans for improved\n",
    "# choroid visualisation. \n",
    "# When bscan_type is \"AV-line\", we do not compensate for shadows\n",
    "if preprocess:\n",
    "    if bscan_type != \"AV-line\":\n",
    "        msg = \"Preprocessing by compensating for vessel shadows and brightening choroid...\"\n",
    "        bscan_data = np.array([utils.normalise_brightness(utils.shadow_compensate(img)) for img in bscan_data])\n",
    "    elif bscan_type == \"AV-line\":\n",
    "        msg = \"AV-line scans are not shadow-compensated and left raw for further processing.\"\n",
    "    logging.append(msg)\n",
    "    if verbose:\n",
    "        print(msg)"
   ]
  },
  {
   "cell_type": "markdown",
   "id": "de69b07f-b126-427b-a48a-fd3da331c1fa",
   "metadata": {},
   "source": [
    "### Load in retinal layer segmentations"
   ]
  },
  {
   "cell_type": "code",
   "execution_count": null,
   "id": "78bfd921-5e7c-453e-b7d5-656906282732",
   "metadata": {},
   "outputs": [],
   "source": [
    "# retinal layers\n",
    "retinal_layer_raw = voldata.layers\n",
    "N_rlayers = len(retinal_layer_raw)\n",
    "if N_rlayers == 2:\n",
    "    msg = \".vol file only has ILM and BM layer segmentations.\"\n",
    "elif N_rlayers == 17:\n",
    "    msg = \".vol file contains all retinal layer segmentations.\"\n",
    "else:\n",
    "    msg = \".vol file contains ILM and BM, but fewer than all inner retinal layer segmentations.\"\n",
    "logging.append(msg)\n",
    "if verbose:\n",
    "    print(msg)"
   ]
  },
  {
   "cell_type": "markdown",
   "id": "bfc575a6-4b79-4829-b727-751600498cd9",
   "metadata": {},
   "source": [
    "### Organise retinal layer segmentations depending on scan pattern"
   ]
  },
  {
   "cell_type": "code",
   "execution_count": null,
   "id": "41b5a45d-43d5-4aac-bcd2-b48e75e77f1e",
   "metadata": {},
   "outputs": [],
   "source": [
    "# Collect all available retinal layer keys\n",
    "msg = \"Processing retinal layer segmentations...\"\n",
    "logging.append(msg)\n",
    "if verbose:\n",
    "    print(msg)\n",
    "x_grid_all = np.repeat(np.arange(N).reshape(-1,1), N_scans, axis=1).T"
   ]
  },
  {
   "cell_type": "code",
   "execution_count": null,
   "id": "17a06b78-96fd-4620-9ad1-a3a0a2eea5f7",
   "metadata": {},
   "outputs": [],
   "source": [
    "# Collect all available retinal layer keys\n",
    "msg = \"Processing retinal layer segmentations...\"\n",
    "logging.append(msg)\n",
    "if verbose:\n",
    "    print(msg)\n",
    "x_grid_all = np.repeat(np.arange(N).reshape(-1,1), N_scans, axis=1).T\n",
    "\n",
    "# Dealing with retinal layer segmentations using primitive loader from EyePy\n",
    "if not eyepy_import:\n",
    "    \n",
    "    # Collect retinal layer segmentations based on .vol mapping from EyePy\n",
    "    retinal_layers = {}\n",
    "    for name, i in SEG_MAPPING.items():\n",
    "        msg = None\n",
    "        if i >= retinal_layer_raw.shape[0]:\n",
    "            msg = 'The volume contains less layers than expected. The naming might not be correct.'\n",
    "            break\n",
    "        retinal_layers[name] = retinal_layer_raw[i]\n",
    "\n",
    "# Dealing with retinal layer segmentations loaded and organised from EyePy\n",
    "else:\n",
    "    retinal_layers = {name:val.data for name,val in retinal_layer_raw.items()}\n",
    "        \n",
    "# Create pairwise retinal layers\n",
    "layer_keys = []\n",
    "for key in retinal_layers.keys():\n",
    "    if not np.all(np.isnan(retinal_layers[key])):\n",
    "        layer_keys.append(key) \n",
    "layer_keys = layer_keys[:1] + layer_keys[2:] + [\"BM\"]\n",
    "N_rlayers = len(layer_keys)\n",
    "layer_key_pairwise = [f\"{key1}_{key2}\" for key1,key2 in zip(layer_keys[:-1], layer_keys[1:])]\n",
    "\n",
    "# By default we always provide the whole retina\n",
    "layer_key_pairwise.append(\"ILM_BM\")\n",
    "\n",
    "# If macular scan, allow custom retinal layers to be created\n",
    "if bscan_type != 'Peripapillary':\n",
    "\n",
    "    # If ELM traces exist, then we will provide measurements for inner and outer retina. \n",
    "    if 'ELM' in layer_keys:\n",
    "        custom_maps += [\"ILM_ELM\", \"ELM_BM\"]\n",
    "    custom_maps = list(set(custom_maps))\n",
    "\n",
    "    # Add custom retinal layers if they exist\n",
    "    if N_rlayers > 2 and len(custom_maps) > 0:\n",
    "        for key_pair in custom_maps:\n",
    "            layer_key_pairwise.append(key_pair)"
   ]
  },
  {
   "cell_type": "code",
   "execution_count": null,
   "id": "4c35b3a6-a4be-4d5e-b1e1-1f6c17d0b76f",
   "metadata": {},
   "outputs": [],
   "source": [
    "# Collect retinal layer segmentations\n",
    "layer_pairwise = {}\n",
    "for key in layer_key_pairwise:\n",
    "    key1, key2 = key.split(\"_\")\n",
    "    lyr1 = np.concatenate([x_grid_all[...,np.newaxis],\n",
    "                        retinal_layers[key1][...,np.newaxis]], axis=-1)\n",
    "    lyr2 = np.concatenate([x_grid_all[...,np.newaxis],\n",
    "                        retinal_layers[key2][...,np.newaxis]], axis=-1)\n",
    "    lyr12_xy_all = np.concatenate([lyr1[:,np.newaxis], lyr2[:,np.newaxis]], axis=1)\n",
    "    layer_pairwise[key] = [utils.remove_nans(tr) for tr in lyr12_xy_all]   "
   ]
  },
  {
   "cell_type": "markdown",
   "id": "cb56c532-ced8-4153-8839-644f0e1762a0",
   "metadata": {},
   "source": [
    "### Ensuring all inner retinal layer segmentations exist for downstream Ppole volume feature measurement"
   ]
  },
  {
   "cell_type": "code",
   "execution_count": null,
   "id": "c35d5137-90b0-4f4a-94bc-9e0a51e52433",
   "metadata": {},
   "outputs": [],
   "source": [
    "# Check to make sure all B-scans have inner retinal layer segmentations. If not,\n",
    "# only return ILM and BM layers - this does not apply for peripapillary scans, where\n",
    "# only three layers are segmented.\n",
    "if N_rlayers > 2 and bscan_type == \"Ppole\":    \n",
    "    check_layer = \"ILM_RNFL\"\n",
    "    check_segs = [trace.shape[1]==0 for trace in layer_pairwise[check_layer]]\n",
    "    N_missing = int(np.sum(check_segs))\n",
    "    if N_missing > 0:\n",
    "        msg = f\"WARNING: Found {N_rlayers} retinal layer segmentations, but {N_missing}/{N_scans} B-scans have not been fully segmented for all retinal layers.\"\n",
    "        logging.append(msg)\n",
    "        if verbose:\n",
    "            print(msg)    \n",
    "    if N_missing > N_scans//2:\n",
    "        msg = f\"\"\"Over half of the B-scans are missing inner retinal layer segmentations.\n",
    "Falling back to default state of only analysing whole retina, and removing inner retinal layers in output.\n",
    "Please segment inner retinal layers for remaining scans to analyse all retinal layers.\"\"\"\n",
    "        logging.append(msg)\n",
    "        if verbose:\n",
    "            print(msg)\n",
    "        newlayer_pairwise = {}\n",
    "        newlayer_pairwise[\"ILM_BM\"] = layer_pairwise[\"ILM_BM\"]\n",
    "        layer_pairwise = newlayer_pairwise\n",
    "        N_rlayers = 2        \n",
    "msg = f\"Found {N_rlayers} valid retinal layer segmentations for all B-scans.\"\n",
    "logging.append(msg)\n",
    "if verbose:\n",
    "    print(msg)"
   ]
  },
  {
   "cell_type": "markdown",
   "id": "57687fca-4266-4fe9-953e-1af0c8c80851",
   "metadata": {},
   "source": [
    "### Work out B-scan acquisition location(s) on en face SLO"
   ]
  },
  {
   "cell_type": "code",
   "execution_count": null,
   "id": "885c2768-665a-4323-ae01-a5ed2d3fcc94",
   "metadata": {
    "scrolled": true
   },
   "outputs": [],
   "source": [
    "# Construct slo-acquisition image and extract quality of B-scan    \n",
    "msg = \"Accessing IR-SLO and organising metadata...\"\n",
    "logging.append(msg)\n",
    "if verbose:\n",
    "    print(msg)\n",
    "all_mm_points = []\n",
    "all_quality = []\n",
    "for m in bscan_meta:\n",
    "    all_quality.append(m[\"quality\"])\n",
    "    st = m[\"start_pos\"]\n",
    "    en = m[\"end_pos\"]\n",
    "    point = np.array([st, en])\n",
    "    all_mm_points.append(point)\n",
    "\n",
    "# Only relevant for Ppole data\n",
    "quality_mu = np.mean(all_quality)\n",
    "quality_sig = np.std(all_quality)\n",
    "\n",
    "# Convert start and end B-scan locations from mm to pixel\n",
    "all_px_points = []\n",
    "for point in all_mm_points:\n",
    "    all_px_points.append(slo_N * point / slo_metadict[\"field_of_view_mm\"])\n",
    "all_px_points = np.array(all_px_points)\n",
    "\n",
    "# Python indexing versus .vol all_px_points indexing\n",
    "all_px_points[:,1,0] -= 1\n",
    "\n",
    "# Create a copy of slo_acq larger than the SLO to contain all acquisition locations\n",
    "slo_acq = np.concatenate(3*[slo[...,np.newaxis]], axis=-1)\n",
    "slo_acq_fixed = slo_acq.copy()\n",
    "slo_minmax_x = all_px_points[:,:,0].min(), all_px_points[:,:,0].max()\n",
    "slo_minmax_y = all_px_points[:,:,1].min(), all_px_points[:,:,1].max()\n",
    "\n",
    "# Work out padding dimensions to ensure the entire fovea-centred acquisition line fits onto slo_fov_max\n",
    "pad_y = int(np.ceil(abs(min(0,slo_minmax_y[0])))), int(np.ceil(abs(max(0,slo_minmax_y[1]-slo_N))))\n",
    "pad_x = int(np.ceil(abs(min(0,slo_minmax_x[0])))), int(np.ceil(abs(max(0,slo_minmax_x[1]-slo_N))))\n",
    "slo_acq = np.pad(slo_acq, (pad_y, pad_x, (0,0)), mode='constant')"
   ]
  },
  {
   "cell_type": "code",
   "execution_count": null,
   "id": "9190ac9e-58e2-4098-b609-c7e4861ff479",
   "metadata": {
    "scrolled": true
   },
   "outputs": [],
   "source": [
    "# For peripapillary scans, we draw a circular ROI\n",
    "acq_palette = np.array(plt.get_cmap(\"nipy_spectral\")(np.linspace(0.1, 0.9, N_scans)))[...,:-1]\n",
    "if bscan_type == \"Peripapillary\":\n",
    "    peripapillary_coords = all_px_points[0].astype(int)\n",
    "    \n",
    "    OD_edge, OD_center = peripapillary_coords\n",
    "    circular_radius = np.abs(OD_center[0] - OD_edge[0])\n",
    "    circular_mask = grid.create_circular_mask(img_shape=(N,N), \n",
    "                                 center=OD_center, \n",
    "                                 radius=circular_radius)\n",
    "    circular_bnd_mask = segmentation.find_boundaries(circular_mask)\n",
    "    slo_acq[circular_bnd_mask,:] = 0\n",
    "    slo_acq[circular_bnd_mask,1] = 1\n",
    "    slo_metadict[\"stxy_coord\"] = f\"{OD_edge[0]},{OD_edge[1]}\"\n",
    "    slo_metadict[\"acquisition_radius_px\"] = circular_radius\n",
    "    slo_metadict[\"acquisition_radius_mm\"] = np.round(circular_radius*slo_metadict[\"scale_x\"],2)\n",
    "    slo_metadict[\"acquisition_optic_disc_center_x\"] = OD_center[0]\n",
    "    slo_metadict[\"acquisition_optic_disc_center_y\"] = OD_center[1]\n",
    "\n",
    "else:\n",
    "    # Colour palette for acquisition lines, helpful for Ppole map registration onto SLO\n",
    "    # Use green for single-line scans\n",
    "    if N_scans == 1:\n",
    "        acq_palette = [np.array([0,1,0])]\n",
    "\n",
    "    # Use a spectrum of colour for Ppole/radial scans \n",
    "    else:\n",
    "        acq_palette = np.array(plt.get_cmap(\"nipy_spectral\")(np.linspace(0.1, 0.9, N_scans)))[...,:-1]\n",
    "\n",
    "    # Loop across acquisition line endpoints, draw lines on SLO\n",
    "    for idx, point in enumerate(all_px_points):\n",
    "        loc_colour = acq_palette[idx] #np.array([0,1,0])\n",
    "        if bscan_type == 'Radial':\n",
    "            x_idx, y_idx = [[1,0], [0,1]][idx == N_scans//2]  \n",
    "        else:\n",
    "            x_idx, y_idx = [[1,0], [0,1]][bscan_type != \"V-line\"]\n",
    "        X, y = point[:,x_idx].reshape(-1,1).astype(int), point[:,y_idx].astype(int)\n",
    "        linmod = LinearRegression().fit(X, y)\n",
    "        x_grid = np.linspace(X[0,0], X[1,0], 800).astype(int)\n",
    "        y_grid = linmod.predict(x_grid.reshape(-1,1)).astype(int)\n",
    "        for (x,y) in zip(x_grid, y_grid):\n",
    "            if bscan_type == 'Radial':\n",
    "                x_idx, y_idx = [[x,y], [y,x]][idx == N_scans//2]  \n",
    "            else:\n",
    "                x_idx, y_idx = [[y,x], [x,y]][bscan_type != \"V-line\"]\n",
    "\n",
    "            # Overlay acquisition locations\n",
    "            if (0 <= x_idx < slo_N) & (0 <= y_idx < slo_N):\n",
    "                slo_acq_fixed[y_idx, x_idx] = loc_colour\n",
    "            slo_acq[pad_y[0]+y_idx, pad_x[0]+x_idx] = loc_colour\n",
    "        "
   ]
  },
  {
   "cell_type": "code",
   "execution_count": null,
   "id": "cfbbe0f6-6244-42ef-a499-d92e30f6da3d",
   "metadata": {},
   "outputs": [],
   "source": [
    "# Work out region of interest (ROI) captured by B-scan, helps determine maximum ROI to measure\n",
    "if scan_type != \"Peripapillary\":\n",
    "\n",
    "    # For macular scans, use fovea-centred scan endpoints to work out acquistion ROI\n",
    "    ROI_pts = all_px_points[fovea_slice_num]\n",
    "    ROI_xy = np.abs(np.diff(ROI_pts, axis=0)) * np.array([scale_x, scale_x])\n",
    "    ROI_mm = np.sqrt(np.square(ROI_xy).sum())\n",
    "\n",
    "else:\n",
    "    # For peripapillary scans, use circumference of circular acquisition location using\n",
    "    # OD centre and acquisition circular edge (forming a radius)\n",
    "    ROI_mm = 2*np.pi*np.abs(np.diff(all_mm_points[0][:,0]))[0]"
   ]
  },
  {
   "cell_type": "markdown",
   "id": "886e13ce-39d3-4aed-bf6d-db8de5dc6b62",
   "metadata": {},
   "source": [
    "### Organise metadata"
   ]
  },
  {
   "cell_type": "code",
   "execution_count": null,
   "id": "daea020c-5b37-4b47-90c9-55b2e9436314",
   "metadata": {},
   "outputs": [],
   "source": [
    "# Create DataFrame of metadata\n",
    "bscan_metadict = {}\n",
    "bscan_metadict[\"Filename\"] = fname\n",
    "if eye  == 'OD':\n",
    "    bscan_metadict[\"eye\"] = 'Right'\n",
    "elif eye == 'OS':\n",
    "    bscan_metadict[\"eye\"] = 'Left'\n",
    "bscan_metadict[\"bscan_type\"] = bscan_type\n",
    "bscan_metadict[\"bscan_resolution_x\"] = N\n",
    "bscan_metadict[\"bscan_resolution_y\"] = M\n",
    "bscan_metadict[\"bscan_scale_z\"] = 1e3*scale_z\n",
    "bscan_metadict[\"bscan_scale_x\"] = 1e3*scale_x\n",
    "bscan_metadict[\"bscan_scale_y\"] = 1e3*scale_y\n",
    "bscan_metadict[\"bscan_ROI_mm\"] = ROI_mm\n",
    "bscan_metadict[\"scale_units\"] = \"microns_per_pixel\"\n",
    "bscan_metadict[\"avg_quality\"] = quality_mu\n",
    "bscan_metadict[\"retinal_layers_N\"] = N_rlayers\n",
    "\n",
    "# Remove duplicates: store scales as microns-per-pixel, laterality=eye\n",
    "slo_metadict[\"slo_scale_xy\"] = 1e3*slo_metadict[\"scale_x\"]\n",
    "for key in [\"laterality\", \"scale_x\", \"scale_y\", \"scale_unit\"]:\n",
    "    del slo_metadict[key]\n",
    "slo_metadict[\"location\"] = scan_type.lower()\n",
    "slo_metadict[\"slo_modality\"] = slo_metadict.pop(\"modality\")\n",
    "slo_metadict[\"field_size_degrees\"] = slo_metadict.pop(\"field_size\")\n",
    "    \n",
    "# Combine metadata and return with data\n",
    "metadata = {**bscan_metadict, **slo_metadict}\n",
    "msg = \"Done!\"\n",
    "logging.append(msg)\n",
    "if verbose:\n",
    "    print(msg)"
   ]
  },
  {
   "cell_type": "markdown",
   "id": "c25bf021-0ae1-4996-a2d7-0845f1ab6320",
   "metadata": {},
   "source": [
    "# Run OCTolyzer's load function from scratch on this file to check whether it works properly before/after debugging. "
   ]
  },
  {
   "cell_type": "code",
   "execution_count": null,
   "id": "82ed23f3-3d47-4d87-a295-90f6629067dc",
   "metadata": {},
   "outputs": [],
   "source": [
    "from importlib import reload\n",
    "reload(utils)"
   ]
  },
  {
   "cell_type": "code",
   "execution_count": null,
   "id": "57263ed3-98e8-423c-ba71-1ecb95bda29c",
   "metadata": {},
   "outputs": [],
   "source": [
    "bscans, meta, slo, ret, log = utils.load_volfile(vol_path)"
   ]
  },
  {
   "cell_type": "code",
   "execution_count": null,
   "id": "47b4b6f4-bc4d-478c-a01b-9e2bebddceaf",
   "metadata": {},
   "outputs": [],
   "source": []
  }
 ],
 "metadata": {
  "kernelspec": {
   "display_name": "Python 3 (ipykernel)",
   "language": "python",
   "name": "python3"
  },
  "language_info": {
   "codemirror_mode": {
    "name": "ipython",
    "version": 3
   },
   "file_extension": ".py",
   "mimetype": "text/x-python",
   "name": "python",
   "nbconvert_exporter": "python",
   "pygments_lexer": "ipython3",
   "version": "3.11.11"
  }
 },
 "nbformat": 4,
 "nbformat_minor": 5
}
