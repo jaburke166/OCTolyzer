{
 "cells": [
  {
   "cell_type": "markdown",
   "id": "2379be0c-0aa3-46a0-b9f5-a1b20913d7c2",
   "metadata": {},
   "source": [
    "# Minimal example\n",
    "\n",
    "## Individual processing"
   ]
  },
  {
   "cell_type": "code",
   "execution_count": null,
   "id": "48b9bc3e-df93-4685-89ff-11bdf1cbd947",
   "metadata": {},
   "outputs": [],
   "source": [
    "# Load necessary modules\n",
    "from octolyzer import utils, analyse\n",
    "from pathlib import Path\n",
    "\n",
    "# Detect images in analyze/images\n",
    "paths = sorted(Path(\"analyze/demo/\").glob(f\"*.vol\"))\n",
    "path = paths[0]\n",
    "save_path = \"analyze/output\"\n",
    "\n",
    "# Analyse SLO+OCT data - saved out in analyze/output/ into a folder whose name is the filename of the image\n",
    "output = analyse.analyse(path, save_path)\n",
    "# output is a tuple containing the results from the SLO analysis and OCT analysis separately\n",
    "# Each tuple stores relevant (metadata, feature measurements, segmentations, logging)"
   ]
  },
  {
   "cell_type": "markdown",
   "id": "6ecc90bb-0b21-4700-9979-c6b6c5dc590a",
   "metadata": {},
   "source": [
    "## Batch processing"
   ]
  },
  {
   "cell_type": "code",
   "execution_count": null,
   "id": "8c9ac3bb-a1cc-4678-a3b6-78a7362b512c",
   "metadata": {},
   "outputs": [],
   "source": [
    "from octolyzer import main\n",
    "\n",
    "args = {\n",
    "    \"analysis_directory\": r\"C:\\Users\\s1522100\\Documents\\PhD Work\\Python Scripts\\Github\\OCTolyzer\\analyze\\demo\",\n",
    "    \"output_directory\": r\"C:\\Users\\s1522100\\Documents\\PhD Work\\Python Scripts\\Github\\OCTolyzer\\analyze\\output\",\n",
    "    \"robust_run\": 0,\n",
    "    \"save_individual_segmentations\": 1,\n",
    "    \"save_individual_images\": 1,\n",
    "    \"preprocess_bscans\": 1,\n",
    "    \"analyse_choroid\": 1,\n",
    "    \"analyse_slo\": 1,\n",
    "    \"custom_maps\": [], # this cannot be \"0\" like it is in config.txt - it is an empty list\n",
    "    \"analyse_all_maps\": 1,\n",
    "    \"analyse_square_grid\": 0,\n",
    "    \"choroid_measure_type\": \"perpendicular\",\n",
    "    \"linescan_roi_distance\": 3000\n",
    "}\n",
    "\n",
    "main.run(args)"
   ]
  },
  {
   "cell_type": "code",
   "execution_count": null,
   "id": "88ae64c4-3e03-4616-835b-e0ba576981b9",
   "metadata": {},
   "outputs": [],
   "source": []
  }
 ],
 "metadata": {
  "kernelspec": {
   "display_name": "Python 3 (ipykernel)",
   "language": "python",
   "name": "python3"
  },
  "language_info": {
   "codemirror_mode": {
    "name": "ipython",
    "version": 3
   },
   "file_extension": ".py",
   "mimetype": "text/x-python",
   "name": "python",
   "nbconvert_exporter": "python",
   "pygments_lexer": "ipython3",
   "version": "3.11.6"
  }
 },
 "nbformat": 4,
 "nbformat_minor": 5
}
