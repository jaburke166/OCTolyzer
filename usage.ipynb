{
 "cells": [
  {
   "cell_type": "markdown",
   "id": "2379be0c-0aa3-46a0-b9f5-a1b20913d7c2",
   "metadata": {},
   "source": [
    "# Minimal example\n",
    "\n",
    "## Individual processing"
   ]
  },
  {
   "cell_type": "code",
   "execution_count": 1,
   "id": "48b9bc3e-df93-4685-89ff-11bdf1cbd947",
   "metadata": {},
   "outputs": [
    {
     "name": "stderr",
     "output_type": "stream",
     "text": [
      "/Users/s1522100/Documents/OCTolyzer/octolyzer/segment/octseg/choroidalyzer_inference.py:9: TqdmExperimentalWarning: Using `tqdm.autonotebook.tqdm` in notebook mode. Use `tqdm.tqdm` instead to force console mode (e.g. in jupyter console)\n",
      "  from tqdm.autonotebook import tqdm\n",
      "The volume contains less layers than expected. The naming might not be correct.\n"
     ]
    },
    {
     "name": "stdout",
     "output_type": "stream",
     "text": [
      "\n",
      "\n",
      "ANALYSING SLO+OCT OF Linescan_1.\n",
      "\n",
      "Reading file Linescan_1.vol...\n",
      "Loaded a single H-line B-scan.\n",
      "Preprocessing by compensating for vessel shadows and brightening choroid...\n",
      ".vol file contains ILM and BM, but fewer than all inner retinal layer segmentations.\n",
      "Processing retinal layer segmentations...\n",
      "Found 2 valid retinal layer segmentations for all B-scans.\n",
      "Accessing IR-SLO and organising metadata...\n",
      "Done!\n",
      "\n",
      "\n",
      "ANALYSING OCT of Linescan_1.\n",
      "\n",
      "Loading models...\n",
      "Macular choroid segmentation model has been loaded with GPU acceleration!\n",
      "Peripapillary choroid segmentation model has been loaded with GPU acceleration!\n",
      "Segmenting choroid and fovea...\n",
      "Measuring average and subfoveal thickness, area, and vessel area/vascular index (for choroid only).\n",
      "Region of interest is fovea-centred using a distance of 3000microns temporal/nasal to fovea.\n",
      "All retinal measurements are made vertically, i.e. with respect to the image axis (vertical).\n",
      "All choroidal measurements are made perpendicular.\n",
      "B-scan 1:\n",
      "    Measuring layer: ILM_BM\n",
      "    Measuring layer: CHORupper_CHORlower\n"
     ]
    },
    {
     "name": "stderr",
     "output_type": "stream",
     "text": [
      "[ WARN:0@13.904] global loadsave.cpp:848 imwrite_ Unsupported depth image for selected encoder is fallbacked to CV_8U.\n"
     ]
    },
    {
     "name": "stdout",
     "output_type": "stream",
     "text": [
      "\n",
      "Saved out metadata, measurements and segmentations.\n",
      "\n",
      "Completed analysis of Linescan_1.\n",
      "\n"
     ]
    }
   ],
   "source": [
    "# Load necessary modules\n",
    "from octolyzer import utils, analyse\n",
    "from pathlib import Path\n",
    "\n",
    "# Detect data in analyze/demo\n",
    "paths = sorted(Path(\"demo/input\").glob(f\"*.vol\"))\n",
    "path = paths[0]\n",
    "save_path = \"demo/output\"\n",
    "\n",
    "# Analyse SLO+OCT data - saved out in analyze/output/ into a folder whose name is the filename of the image\n",
    "output = analyse.analyse(path, save_path)\n",
    "# output is a tuple containing the results from the SLO analysis and OCT analysis separately\n",
    "# Each tuple stores relevant (metadata, feature measurements, segmentations, logging)"
   ]
  },
  {
   "cell_type": "markdown",
   "id": "6ecc90bb-0b21-4700-9979-c6b6c5dc590a",
   "metadata": {},
   "source": [
    "## Batch processing"
   ]
  },
  {
   "cell_type": "code",
   "execution_count": 2,
   "id": "8c9ac3bb-a1cc-4678-a3b6-78a7362b512c",
   "metadata": {},
   "outputs": [
    {
     "name": "stdout",
     "output_type": "stream",
     "text": [
      "Found 4 to analyse.\n",
      "\n",
      "Loading SLO and OCT models.\n",
      "Binary vessel detection has been loaded with GPU acceleration!\n",
      "Artery-Vein-Optic disc detection has been loaded with GPU acceleration!\n",
      "Fovea detection has been loaded with GPU acceleration!\n",
      "Macular choroid segmentation model has been loaded with GPU acceleration!\n",
      "Peripapillary choroid segmentation model has been loaded with GPU acceleration!\n",
      "\n",
      "Running choroid and retinal analysis.\n"
     ]
    },
    {
     "name": "stderr",
     "output_type": "stream",
     "text": [
      "Analysing...:   0%|                                                                                                                          | 0/4 [00:00<?, ?it/s]"
     ]
    },
    {
     "name": "stdout",
     "output_type": "stream",
     "text": [
      "\n",
      "Previously analysed Linescan_1.\n",
      "Loading in measurements...\n",
      "Successfully loaded in all measurements!\n",
      "\n",
      "\n",
      "\n",
      "ANALYSING SLO+OCT OF Peripapillary_1.\n",
      "\n",
      "Reading file Peripapillary_1.vol...\n",
      "Loaded a peripapillary (circular) B-scan.\n",
      "Preprocessing by compensating for vessel shadows and brightening choroid...\n",
      ".vol file contains ILM and BM, but fewer than all inner retinal layer segmentations.\n",
      "Processing retinal layer segmentations...\n",
      "Found 3 valid retinal layer segmentations for all B-scans.\n",
      "Accessing IR-SLO and organising metadata...\n",
      "Done!\n",
      "\n",
      "\n",
      "ANALYSING SLO of Peripapillary_1.\n",
      "\n",
      "SEGMENTING...\n",
      "    Segmenting binary vessels from SLO image.\n",
      "    Segmenting fovea from SLO image.\n",
      "    Segmenting artery-vein vessels and optic disc from SLO image.\n",
      "\n",
      "Inferring image metadata...\n",
      "    Location is specified as optic disc-centred.\n",
      "    Eye type is specified as the Right eye.\n",
      "Measurements which have units are in microns units. Otherwise they are non-dimensional.\n",
      "\n",
      "\n",
      "FEATURE MEASUREMENT...\n",
      "Measuring en-face vessel metrics on optic disc-centred SLO image using the whole image.\n",
      "We will also measure Zones B (0.5-1 OD diameter) and C (2 OD diameter) from optic disc margin.\n",
      "    Measuring binary vessel map\n",
      "    Measuring artery vessel map\n",
      "    Measuring vein vessel map\n",
      "\n",
      "\n",
      "Saving out segmentation composition...\n",
      "\n",
      "\n",
      "ANALYSING OCT of Peripapillary_1.\n",
      "\n",
      "Segmenting choroid and fovea...\n",
      "\n",
      "Segmented B-scan visualisation saved out.\n",
      "\n",
      "\n",
      "Measuring thickness around the optic disc for retina and/or choroid.\n",
      "Thickness measurements will be averaged following the standard peripapillary subgrids.\n",
      "All measurements are made with respect to the image axis (vertical) as this is a circular B-scan (continuous at either end).\n",
      "User-specified optic disc center is 4.13% of the optic disc diameter.\n",
      "\n",
      "WARNING: Peripapillary segmentation for layer CHORupper_CHORlower missing 0.39% pixels. Interpolating thickness array linearly. Please check segmentation.\n",
      "\n"
     ]
    },
    {
     "name": "stderr",
     "output_type": "stream",
     "text": [
      "The volume contains less layers than expected. The naming might not be correct.                                                      | 2/4 [00:06<00:06,  3.42s/it]\n"
     ]
    },
    {
     "name": "stdout",
     "output_type": "stream",
     "text": [
      "\n",
      "Saved out metadata, measurements and segmentations.\n",
      "\n",
      "Completed analysis of Peripapillary_1.\n",
      "\n",
      "\n",
      "\n",
      "ANALYSING SLO+OCT OF Ppole_1.\n",
      "\n",
      "Reading file Ppole_1.vol...\n",
      "Loaded a posterior pole scan with 7 B-scans.\n",
      "Preprocessing by compensating for vessel shadows and brightening choroid...\n",
      ".vol file contains ILM and BM, but fewer than all inner retinal layer segmentations.\n",
      "Processing retinal layer segmentations...\n",
      "Found 2 valid retinal layer segmentations for all B-scans.\n",
      "Accessing IR-SLO and organising metadata...\n",
      "Done!\n",
      "\n",
      "\n",
      "ANALYSING SLO of Ppole_1.\n",
      "\n",
      "SEGMENTING...\n",
      "    Segmenting binary vessels from SLO image.\n",
      "    Segmenting fovea from SLO image.\n",
      "    Segmenting artery-vein vessels and optic disc from SLO image.\n",
      "\n",
      "Inferring image metadata...\n",
      "    Location is specified as macula-centred.\n",
      "    Eye type is specified as the Right eye.\n",
      "Measurements which have units are in microns units. Otherwise they are non-dimensional.\n",
      "\n",
      "\n",
      "FEATURE MEASUREMENT...\n",
      "Measuring en-face vessel metrics on macula-centred SLO image using the whole image.\n",
      "    Measuring binary vessel map\n",
      "    Measuring artery vessel map\n",
      "    Measuring vein vessel map\n",
      "\n",
      "\n",
      "Saving out segmentation composition...\n",
      "\n",
      "\n",
      "ANALYSING OCT of Ppole_1.\n",
      "\n",
      "Segmenting choroid and fovea...\n",
      "\n",
      "Generating thickness and volume maps following ETDRS (0.5mm,1.5mm,3mm radial concentric grids).\n",
      "All retinal measurements are made vertically, i.e. with respect to the image axis (vertical).\n",
      "All choroidal measurements are made perpendicular.\n",
      "NOTE: Subregion volumes will not be computed for CVI map.\n",
      "    choroid thickness map\n"
     ]
    },
    {
     "name": "stderr",
     "output_type": "stream",
     "text": [
      "WARNING:root:77.89% missing values in inner_superior region in etdrs grid. Interpolating using nearest neighbour.\n",
      "WARNING:root:12.6% missing values in inner_temporal region in etdrs grid. Interpolating using nearest neighbour.\n",
      "WARNING:root:79.33% missing values in inner_inferior region in etdrs grid. Interpolating using nearest neighbour.\n",
      "WARNING:root:12.6% missing values in inner_nasal region in etdrs grid. Interpolating using nearest neighbour.\n",
      "WARNING:root:100.0% missing values in outer_superior region in etdrs grid. Interpolating using nearest neighbour.\n",
      "/Users/s1522100/Documents/OCTolyzer/octolyzer/measure/bscan/thickness_maps/grid.py:641: RuntimeWarning: invalid value encountered in cast\n",
      "  grid_dict[sub] = np.round(dtype(subr_vals.mean()),round_idx)\n",
      "WARNING:root:80.41% missing values in outer_temporal region in etdrs grid. Interpolating using nearest neighbour.\n",
      "WARNING:root:100.0% missing values in outer_inferior region in etdrs grid. Interpolating using nearest neighbour.\n",
      "WARNING:root:79.17% missing values in outer_nasal region in etdrs grid. Interpolating using nearest neighbour.\n"
     ]
    },
    {
     "name": "stdout",
     "output_type": "stream",
     "text": [
      "    choroid vessel and vascular index maps\n"
     ]
    },
    {
     "name": "stderr",
     "output_type": "stream",
     "text": [
      "WARNING:root:77.89% missing values in inner_superior region in etdrs grid. Interpolating using nearest neighbour.\n",
      "WARNING:root:12.6% missing values in inner_temporal region in etdrs grid. Interpolating using nearest neighbour.\n",
      "WARNING:root:79.33% missing values in inner_inferior region in etdrs grid. Interpolating using nearest neighbour.\n",
      "WARNING:root:12.6% missing values in inner_nasal region in etdrs grid. Interpolating using nearest neighbour.\n",
      "WARNING:root:100.0% missing values in outer_superior region in etdrs grid. Interpolating using nearest neighbour.\n",
      "WARNING:root:85.31% missing values in outer_temporal region in etdrs grid. Interpolating using nearest neighbour.\n",
      "WARNING:root:100.0% missing values in outer_inferior region in etdrs grid. Interpolating using nearest neighbour.\n",
      "WARNING:root:84.07% missing values in outer_nasal region in etdrs grid. Interpolating using nearest neighbour.\n",
      "WARNING:root:77.89% missing values in inner_superior region in etdrs grid. Interpolating using nearest neighbour.\n",
      "WARNING:root:12.6% missing values in inner_temporal region in etdrs grid. Interpolating using nearest neighbour.\n",
      "WARNING:root:79.33% missing values in inner_inferior region in etdrs grid. Interpolating using nearest neighbour.\n",
      "WARNING:root:12.6% missing values in inner_nasal region in etdrs grid. Interpolating using nearest neighbour.\n",
      "WARNING:root:100.0% missing values in outer_superior region in etdrs grid. Interpolating using nearest neighbour.\n",
      "/Users/s1522100/Documents/OCTolyzer/octolyzer/measure/bscan/thickness_maps/grid.py:641: RuntimeWarning: invalid value encountered in cast\n",
      "  grid_dict[sub] = np.round(dtype(subr_vals.mean()),round_idx)\n",
      "WARNING:root:85.31% missing values in outer_temporal region in etdrs grid. Interpolating using nearest neighbour.\n",
      "WARNING:root:100.0% missing values in outer_inferior region in etdrs grid. Interpolating using nearest neighbour.\n",
      "WARNING:root:84.07% missing values in outer_nasal region in etdrs grid. Interpolating using nearest neighbour.\n",
      "WARNING:root:77.89% missing values in inner_superior region in etdrs grid. Interpolating using nearest neighbour.\n",
      "WARNING:root:12.6% missing values in inner_temporal region in etdrs grid. Interpolating using nearest neighbour.\n",
      "WARNING:root:79.33% missing values in inner_inferior region in etdrs grid. Interpolating using nearest neighbour.\n",
      "WARNING:root:12.6% missing values in inner_nasal region in etdrs grid. Interpolating using nearest neighbour.\n"
     ]
    },
    {
     "name": "stdout",
     "output_type": "stream",
     "text": [
      "    retina thickness map\n"
     ]
    },
    {
     "name": "stderr",
     "output_type": "stream",
     "text": [
      "WARNING:root:100.0% missing values in outer_superior region in etdrs grid. Interpolating using nearest neighbour.\n",
      "/Users/s1522100/Documents/OCTolyzer/octolyzer/measure/bscan/thickness_maps/grid.py:641: RuntimeWarning: invalid value encountered in cast\n",
      "  grid_dict[sub] = np.round(dtype(subr_vals.mean()),round_idx)\n",
      "WARNING:root:80.21% missing values in outer_temporal region in etdrs grid. Interpolating using nearest neighbour.\n",
      "WARNING:root:100.0% missing values in outer_inferior region in etdrs grid. Interpolating using nearest neighbour.\n",
      "WARNING:root:77.43% missing values in outer_nasal region in etdrs grid. Interpolating using nearest neighbour.\n"
     ]
    },
    {
     "name": "stdout",
     "output_type": "stream",
     "text": [
      "Saving out key macular maps.\n",
      "Saving out key visualisations of segmentations overlaid onto posterior pole B-scans.\n"
     ]
    },
    {
     "name": "stderr",
     "output_type": "stream",
     "text": [
      "Analysing...:  75%|█████████████████████████████████████████████████████████████████████████████████████▌                            | 3/4 [00:15<00:05,  5.45s/it]"
     ]
    },
    {
     "name": "stdout",
     "output_type": "stream",
     "text": [
      "\n",
      "Saved out metadata, measurements and segmentations.\n",
      "\n",
      "Completed analysis of Ppole_1.\n",
      "\n",
      "\n",
      "\n",
      "ANALYSING SLO+OCT OF Radial_1.\n",
      "\n",
      "Reading file Radial_1.vol...\n",
      "Loaded a radial scan with 6 B-scans.\n",
      "Preprocessing by compensating for vessel shadows and brightening choroid...\n",
      ".vol file contains ILM and BM, but fewer than all inner retinal layer segmentations.\n",
      "Processing retinal layer segmentations...\n",
      "Found 2 valid retinal layer segmentations for all B-scans.\n",
      "Accessing IR-SLO and organising metadata...\n",
      "Done!\n",
      "\n",
      "\n",
      "ANALYSING SLO of Radial_1.\n",
      "\n",
      "SEGMENTING...\n",
      "    Segmenting binary vessels from SLO image.\n",
      "    Segmenting fovea from SLO image.\n",
      "    Segmenting artery-vein vessels and optic disc from SLO image.\n",
      "\n",
      "Inferring image metadata...\n",
      "    Location is specified as macula-centred.\n",
      "    Eye type is specified as the Right eye.\n",
      "Measurements which have units are in microns units. Otherwise they are non-dimensional.\n",
      "\n",
      "\n",
      "FEATURE MEASUREMENT...\n",
      "Measuring en-face vessel metrics on macula-centred SLO image using the whole image.\n",
      "    Measuring binary vessel map\n",
      "    Measuring artery vessel map\n",
      "    Measuring vein vessel map\n",
      "\n",
      "\n",
      "Saving out segmentation composition...\n",
      "\n",
      "\n",
      "ANALYSING OCT of Radial_1.\n",
      "\n",
      "Segmenting choroid and fovea...\n",
      "Measuring average and subfoveal thickness, area, and vessel area/vascular index (for choroid only).\n",
      "Region of interest is fovea-centred using a distance of 1500microns temporal/nasal to fovea.\n",
      "All retinal measurements are made vertically, i.e. with respect to the image axis (vertical).\n",
      "All choroidal measurements are made perpendicular.\n",
      "B-scan 1:\n",
      "    Measuring layer: ILM_BM\n",
      "    Measuring layer: CHORupper_CHORlower\n",
      "B-scan 2:\n",
      "    Measuring layer: ILM_BM\n",
      "    Measuring layer: CHORupper_CHORlower\n",
      "B-scan 3:\n",
      "    Measuring layer: ILM_BM\n",
      "    Measuring layer: CHORupper_CHORlower\n",
      "B-scan 4:\n",
      "    Measuring layer: ILM_BM\n",
      "    Measuring layer: CHORupper_CHORlower\n",
      "B-scan 5:\n",
      "    Measuring layer: ILM_BM\n",
      "    Measuring layer: CHORupper_CHORlower\n",
      "B-scan 6:\n",
      "    Measuring layer: ILM_BM\n",
      "    Measuring layer: CHORupper_CHORlower\n"
     ]
    },
    {
     "name": "stderr",
     "output_type": "stream",
     "text": [
      "                                                                                                                                                                   "
     ]
    },
    {
     "name": "stdout",
     "output_type": "stream",
     "text": [
      "\n",
      "Saved out metadata, measurements and segmentations.\n",
      "\n",
      "Completed analysis of Radial_1.\n",
      "\n",
      "Collecting all results together into one output file.\n",
      "Completed analysis in 18.416 seconds.\n"
     ]
    },
    {
     "name": "stderr",
     "output_type": "stream",
     "text": []
    }
   ],
   "source": [
    "from octolyzer import main\n",
    "\n",
    "args = {\n",
    "    \"analysis_directory\": r\"/Users/s1522100/Documents/OCTolyzer/demo/input\",\n",
    "    \"output_directory\": r\"/Users/s1522100/Documents/OCTolyzer/demo/output\",\n",
    "    \"robust_run\": 1,\n",
    "    \"save_individual_segmentations\": 1,\n",
    "    \"save_individual_images\": 1,\n",
    "    \"preprocess_bscans\": 1,\n",
    "    \"analyse_choroid\": 1,\n",
    "    \"analyse_slo\": 1,\n",
    "    \"custom_maps\": ['ILM_OPL'], # this cannot be \"0\" like it is in config.txt - it is an empty list\n",
    "    \"analyse_all_maps\": 1,\n",
    "    \"analyse_square_grid\": 0,\n",
    "    \"choroid_measure_type\": \"perpendicular\",\n",
    "    \"linescan_roi_distance\": 1500\n",
    "}\n",
    "\n",
    "# Note that the warnings during Ppole analysis comes from the fact that the acquisition\n",
    "# ROI is much smaller than the standard ETDRS grid. These warnings should disappear when using\n",
    "# data that covers the ETDRS grid\n",
    "main.run(args)"
   ]
  },
  {
   "cell_type": "code",
   "execution_count": null,
   "id": "8ebf4b96-307a-46fd-9487-0b39fd58a41f",
   "metadata": {},
   "outputs": [],
   "source": []
  }
 ],
 "metadata": {
  "kernelspec": {
   "display_name": "Python 3 (ipykernel)",
   "language": "python",
   "name": "python3"
  },
  "language_info": {
   "codemirror_mode": {
    "name": "ipython",
    "version": 3
   },
   "file_extension": ".py",
   "mimetype": "text/x-python",
   "name": "python",
   "nbconvert_exporter": "python",
   "pygments_lexer": "ipython3",
   "version": "3.11.11"
  }
 },
 "nbformat": 4,
 "nbformat_minor": 5
}
